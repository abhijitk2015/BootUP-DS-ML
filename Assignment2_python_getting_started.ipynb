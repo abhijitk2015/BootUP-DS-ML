{
 "cells": [
  {
   "cell_type": "markdown",
   "metadata": {
    "colab_type": "text",
    "id": "view-in-github"
   },
   "source": [
    "<a href=\"https://colab.research.google.com/github/anshupandey/techtrunk_training/blob/master/Assignment1_python_getting_started.ipynb\" target=\"_parent\"><img src=\"https://colab.research.google.com/assets/colab-badge.svg\" alt=\"Open In Colab\"/></a>"
   ]
  },
  {
   "cell_type": "markdown",
   "metadata": {
    "colab_type": "text",
    "id": "f1TWTGqob4vF",
    "tags": [
     "Python",
     "Assignments",
     "Practice",
     "course",
     "python"
    ]
   },
   "source": [
    " # Getting Started with Python"
   ]
  },
  {
   "cell_type": "markdown",
   "metadata": {
    "colab_type": "text",
    "id": "whK_2Ayvb4vI",
    "tags": [
     "reverese_number",
     "python_excercise",
     "code",
     "python"
    ]
   },
   "source": [
    "### Excercise 1\n",
    "\n",
    "<b><p> Write code which accepts a number from user and returns the reverse of it.</b>\n",
    "    <br> For example \n",
    "    <li> reverse_number(852) will return 258\n",
    "    <li> reverse_number(6242) will return 2426\n",
    "    <li> reverse_number(81) will return 18"
   ]
  },
  {
   "cell_type": "code",
   "execution_count": 5,
   "metadata": {
    "colab": {},
    "colab_type": "code",
    "id": "dWx0iwNAb4vJ"
   },
   "outputs": [],
   "source": [
    "def reverse_number(num):\n",
    "    # you code goes here --\n",
    "    num = list(str(num))\n",
    "    num.reverse()\n",
    "    return \"\".join(num)"
   ]
  },
  {
   "cell_type": "code",
   "execution_count": 10,
   "metadata": {},
   "outputs": [
    {
     "data": {
      "text/plain": [
       "'44179'"
      ]
     },
     "execution_count": 10,
     "metadata": {},
     "output_type": "execute_result"
    }
   ],
   "source": [
    "reverse_number(97144)"
   ]
  },
  {
   "cell_type": "markdown",
   "metadata": {
    "colab_type": "text",
    "id": "W8WYSjV3b4vS",
    "tags": [
     "python",
     "excercise"
    ]
   },
   "source": [
    "### Excercise 2\n",
    "\n",
    "<b><p> Write a program that computes the net amount of a bank account based a transaction log from console input. The transaction log format is shown as following: </b>\n",
    "    <br> D 100 \n",
    "    <br> W 200\n",
    "    \n",
    "   For example \n",
    "    \n",
    "    D means deposit while W means withdrawal.\n",
    "    Suppose the following input is supplied to the program:\n",
    "    D 300\n",
    "    D 300\n",
    "    W 200\n",
    "    D 100\n",
    "    Then, the output should be:\n",
    "    500\n",
    "\n",
    "\n",
    "Hints: In case of input data being supplied to the question, it should be assumed to be a console input."
   ]
  },
  {
   "cell_type": "code",
   "execution_count": null,
   "metadata": {
    "colab": {},
    "colab_type": "code",
    "id": "8ngdJGK3b4vU"
   },
   "outputs": [],
   "source": [
    "count = input(\"Enter the number of transactions: \")\n",
    "balance = 0\n",
    "for i in range(int(count)):\n",
    "    transaction = input(\"Transaction: \")\n",
    "    # write your code here onwards p.s. you can also change this structure to achieve required objective\n",
    "    transaction = transaction.split(\" \")\n",
    "    if transaction[0]=='W': balance = balance - int(transaction[1])\n",
    "    elif transaction[0]=='D': balance = balance + int(transaction[1])  \n",
    "    print(balance)\n",
    "print(\"Your final balance is \",balance)"
   ]
  },
  {
   "cell_type": "markdown",
   "metadata": {
    "colab_type": "text",
    "id": "Lhn6hdtAb4vY",
    "tags": [
     "python",
     "text",
     "excercise",
     "Peter",
     "Norvig"
    ]
   },
   "source": [
    "### Excercise 3\n",
    "\n",
    "<b><p> Download the dataset from  </b>\n",
    "\n",
    " http://norvig.com/ngrams/sowpods.txt \n",
    "\n",
    "    In this exercise, the task is to write a function that picks a random word from a list of words from the downloaded dictionary.\n",
    "\n",
    "<br>This file is Peter Norvig’s compilation of the dictionary of words used in professional Scrabble tournaments. Each line in the file contains a single word.\n",
    "\n",
    "    To solve this exercise, you need to do three things:\n",
    "\n",
    "-\tRead all the lists of words\n",
    "-\tGenerate a random number\n",
    "-\tTake that word\n"
   ]
  },
  {
   "cell_type": "code",
   "execution_count": 19,
   "metadata": {
    "colab": {},
    "colab_type": "code",
    "id": "zh0NwwSab4vZ"
   },
   "outputs": [],
   "source": [
    "def get_word():\n",
    "    import numpy as np\n",
    "    file = open(\"data/sowpods.txt\")\n",
    "    # you code goes here\n",
    "    data = file.readlines()\n",
    "    word = np.random.choice(data)\n",
    "    word = word.strip()\n",
    "    return word"
   ]
  },
  {
   "cell_type": "code",
   "execution_count": 20,
   "metadata": {},
   "outputs": [
    {
     "data": {
      "text/plain": [
       "'ATYPIC'"
      ]
     },
     "execution_count": 20,
     "metadata": {},
     "output_type": "execute_result"
    }
   ],
   "source": [
    "get_word()"
   ]
  },
  {
   "cell_type": "markdown",
   "metadata": {
    "colab_type": "text",
    "id": "WYbmEOIhb4vd",
    "tags": [
     "words",
     "python",
     "code",
     "excercise"
    ]
   },
   "source": [
    "### Excercise 4\n",
    "\n",
    "<br><b>Write a program to compute the frequency of the words from the input. The output should output after sorting the key alphanumerically.</b> \n",
    "\n",
    "<br> Suppose the following input is supplied to the program:<br>\n",
    "<code> “New to Python or choosing between Python 2 and Python 3? Read Python 2 or Python 3.” </code>\n",
    "\n",
    "    Then, the output should be:\n",
    "    2:2\n",
    "    3.:1\n",
    "    3?:1\n",
    "    New:1\n",
    "    Python:5\n",
    "    Read:1\n",
    "    and:1\n",
    "    between:1\n",
    "    choosing:1\n",
    "    or:2\n",
    "    to:1\n",
    "<br><br> \n",
    "Hints: In case of input data being supplied to the question, it should be assumed to be a console input.\n"
   ]
  },
  {
   "cell_type": "markdown",
   "metadata": {},
   "source": [
    "1. split the text to a list\n",
    "2. create a dictionary and store the word as a list and the count as a value\n",
    "3. sorting this is order and printint"
   ]
  },
  {
   "cell_type": "code",
   "execution_count": 23,
   "metadata": {
    "colab": {},
    "colab_type": "code",
    "id": "gSqU2xRLb4vf"
   },
   "outputs": [
    {
     "name": "stdout",
     "output_type": "stream",
     "text": [
      "Enter your text here: \n",
      "python is an amazing programming language i love python and it is the most popular programming language i have ever seen compared to other programming language\n",
      "amazing  :  1\n",
      "an  :  1\n",
      "and  :  1\n",
      "compared  :  1\n",
      "ever  :  1\n",
      "have  :  1\n",
      "i  :  2\n",
      "is  :  2\n",
      "it  :  1\n",
      "language  :  3\n",
      "love  :  1\n",
      "most  :  1\n",
      "other  :  1\n",
      "popular  :  1\n",
      "programming  :  3\n",
      "python  :  2\n",
      "seen  :  1\n",
      "the  :  1\n",
      "to  :  1\n"
     ]
    }
   ],
   "source": [
    "text = input(\"Enter your text here: \\n\")\n",
    "# your code goes here\n",
    "text = text.split(\" \")\n",
    "output = {}\n",
    "for w in text: output[w] = text.count(w)\n",
    "\n",
    "keys = list(output.keys())\n",
    "keys.sort()\n",
    "for k in keys: print(k,\" : \",output[k]) "
   ]
  },
  {
   "cell_type": "markdown",
   "metadata": {
    "colab_type": "text",
    "id": "Bkx3zUSlb4vj",
    "tags": [
     "regular_expression",
     "python",
     "excercise",
     "code"
    ]
   },
   "source": [
    "### Excercise 5\n",
    "\n",
    "<br><b>A website requires the users to input username and password to register. Write a program to check the validity of password input by users.</b> \n",
    "\n",
    "\n",
    "<br><br>Following are the criteria for checking the password:\n",
    "\n",
    "    a.\tAt least 1 letter between [a-z]\n",
    "    b.\tAt least 1 number between [0-9]\n",
    "    c.\tAt least 1 letter between [A-Z]\n",
    "    d.\tAt least 1 character from [_#@]\n",
    "    e.\tMinimum length of transaction password: 6\n",
    "    f.\tMaximum length of transaction password: 12\n",
    "\n",
    "<br> <p> Your program should accept a sequence of comma separated passwords and will check them according to the above criteria. Passwords that match the criteria are to be printed, each separated by a comma.\n",
    "<br><br>\n",
    "*For Example*\n",
    "<br>If the following passwords are given as input to the program:\n",
    "\n",
    "    ABd1234@1,a F1#,2w3E*,2We3345\n",
    "Then, the output of the program should be:\n",
    "\n",
    "    ABd1234@1\n",
    "\n",
    "<br>Hints: In case of input data being supplied to the question, it should be assumed to be a console input\n",
    "  \n"
   ]
  },
  {
   "cell_type": "markdown",
   "metadata": {},
   "source": [
    "1. accept the passwords from user from console\n",
    "2. convert them into list by spliting using \",\"\n",
    "3. create a list for storing valid passwords\n",
    "4. In a for loop will write code to examine each password\n",
    "    - check the lenght if it is between 6 to 12\n",
    "    - check if it contains atleast a number, atleast an uppercase, atleast a lowercase\n",
    "    "
   ]
  },
  {
   "cell_type": "code",
   "execution_count": 32,
   "metadata": {
    "colab": {},
    "colab_type": "code",
    "id": "YgE1DnDDb4vl"
   },
   "outputs": [
    {
     "name": "stdout",
     "output_type": "stream",
     "text": [
      "Enter the list of passwords separated by comma - asghk@1,qweWy#12,ishefiJH#@1123,hfKk@12,joj,ji34\n",
      "['qweWy#12', 'hfKk@12']\n"
     ]
    }
   ],
   "source": [
    "password_list = input(\"Enter the list of passwords separated by comma - \")\n",
    "\n",
    "password_list = password_list.split(',')\n",
    "valid_passwords= []\n",
    "for pw in password_list:\n",
    "    capital_status = False\n",
    "    special_status = False\n",
    "    number_status = False\n",
    "    lower_status = False\n",
    "    if len(pw)>6 and len(pw)<12:\n",
    "\n",
    "        for c in list(pw): \n",
    "            if c.isupper(): capital_status=True\n",
    "            if c.islower(): lower_status = True\n",
    "            if c.isdigit(): number_status = True\n",
    "            if c in \"@_#\": special_status = True\n",
    "        if capital_status and lower_status and number_status and special_status:\n",
    "            valid_passwords.append(pw)\n",
    "print(valid_passwords)\n",
    "        "
   ]
  },
  {
   "cell_type": "code",
   "execution_count": 28,
   "metadata": {},
   "outputs": [
    {
     "data": {
      "text/plain": [
       "False"
      ]
     },
     "execution_count": 28,
     "metadata": {},
     "output_type": "execute_result"
    }
   ],
   "source": [
    "c =\"a\"\n",
    "c.isdigit()"
   ]
  },
  {
   "cell_type": "code",
   "execution_count": 30,
   "metadata": {},
   "outputs": [
    {
     "data": {
      "text/plain": [
       "False"
      ]
     },
     "execution_count": 30,
     "metadata": {},
     "output_type": "execute_result"
    }
   ],
   "source": [
    "c= \"&\"\n",
    "c in \"@_#\""
   ]
  },
  {
   "cell_type": "code",
   "execution_count": 33,
   "metadata": {},
   "outputs": [
    {
     "data": {
      "text/plain": [
       "True"
      ]
     },
     "execution_count": 33,
     "metadata": {},
     "output_type": "execute_result"
    }
   ],
   "source": [
    "'a' in 'esjgoaopjjp'"
   ]
  },
  {
   "cell_type": "code",
   "execution_count": null,
   "metadata": {},
   "outputs": [],
   "source": []
  }
 ],
 "metadata": {
  "colab": {
   "include_colab_link": true,
   "name": "Assignment1_python_getting_started.ipynb",
   "provenance": [],
   "version": "0.3.2"
  },
  "kernelspec": {
   "display_name": "Python 3",
   "language": "python",
   "name": "python3"
  },
  "language_info": {
   "codemirror_mode": {
    "name": "ipython",
    "version": 3
   },
   "file_extension": ".py",
   "mimetype": "text/x-python",
   "name": "python",
   "nbconvert_exporter": "python",
   "pygments_lexer": "ipython3",
   "version": "3.7.4"
  },
  "latex_envs": {
   "LaTeX_envs_menu_present": true,
   "autoclose": false,
   "autocomplete": true,
   "bibliofile": "biblio.bib",
   "cite_by": "apalike",
   "current_citInitial": 1,
   "eqLabelWithNumbers": true,
   "eqNumInitial": 1,
   "hotkeys": {
    "equation": "Ctrl-E",
    "itemize": "Ctrl-I"
   },
   "labels_anchors": false,
   "latex_user_defs": false,
   "report_style_numbering": false,
   "user_envs_cfg": false
  }
 },
 "nbformat": 4,
 "nbformat_minor": 1
}
