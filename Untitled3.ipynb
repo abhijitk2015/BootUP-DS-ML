{
 "cells": [
  {
   "cell_type": "markdown",
   "metadata": {},
   "source": [
    "# Twitter Data Scraping"
   ]
  },
  {
   "cell_type": "code",
   "execution_count": 1,
   "metadata": {},
   "outputs": [],
   "source": [
    "api_key = \"LwrH0T5H6u1wzWOCnMlVSoRh5\"\n",
    "api_secret =  \"LVfLXMbcGzZ6NZdL3W48TnoXuFR1ye09Cx2ATg6UROj9XVfBmE\"\n",
    "access_token = \"857530568-rXyIUBnQCJJ3K0ymfcQ010UBdZefNqZGjlPoXZdB\"\n",
    "access_token_secret = \"G1LEQbRHhGC2lJVphClOz4bhzFaq0ufQTCtSOBZWUPWjJ\""
   ]
  },
  {
   "cell_type": "code",
   "execution_count": 3,
   "metadata": {},
   "outputs": [],
   "source": [
    "# tweepy\n",
    "# pip install tweepy\n",
    "import tweepy"
   ]
  },
  {
   "cell_type": "code",
   "execution_count": 6,
   "metadata": {},
   "outputs": [],
   "source": [
    "auth = tweepy.OAuthHandler(api_key,api_secret)\n",
    "auth.set_access_token(access_token,access_token_secret)\n",
    "api = tweepy.API(auth)"
   ]
  },
  {
   "cell_type": "code",
   "execution_count": 8,
   "metadata": {
    "collapsed": true
   },
   "outputs": [
    {
     "name": "stdout",
     "output_type": "stream",
     "text": [
      "RT @sarahkendzior: This is not incompetence. It's malice. https://t.co/Ars7T6XtVk https://t.co/INP0b0ymIZ\n",
      "**********************************************************\n",
      "RT @DONEALLEN1: #President Donald J Trump # I solicit for ur attention to   kindly take a look into the  manslaughter taking place Cameroon…\n",
      "**********************************************************\n",
      "RT @SenWarren: I cannot believe I have to say this: the federal government should not be changing our country’s water efficiency standards…\n",
      "**********************************************************\n",
      "RT @TheDailyEdge: “The case against Donald Trump and Mike Pence is open and shut.” @KamalaHarris \n",
      "\n",
      "#ProsecuteTrump by @MeidasTouch https://…\n",
      "**********************************************************\n",
      "RT @RedTRaccoon: One of the first successful Russian-backed misinformation efforts of the 2020 election tricked Donald Trump Jr. and Ted Cr…\n",
      "**********************************************************\n",
      "RT @DanRather: Kamala Harris will be campaigning from inside Donald Trump’s head. No word on what social distancing is like in there.\n",
      "**********************************************************\n",
      "RT @ddale8: Donald Trump, unprecedented serial liar, on Kamala Harris: \"She's very bad on facts. She's very weak on facts.\"\n",
      "**********************************************************\n",
      "RT @paulcshipley: @realDonaldTrump @KamalaHarris New 📺 from @MeidasTouch\n",
      "Harris:\n",
      "“The case against Donald Trump and Mike Pence is open &amp; sh…\n",
      "**********************************************************\n",
      "RT @PreetBharara: “Whining is what Donald Trump does best.” Joe Biden 💯\n",
      "**********************************************************\n",
      "RT @stucam7771: By European standards, Joe Biden reminds us of a fairly right-wing conservative politician.\n",
      "\n",
      "By European standards, Donald…\n",
      "**********************************************************\n"
     ]
    }
   ],
   "source": [
    "tweet_data = api.search(q='Donald Trump',count=10)\n",
    "for tweet in tweet_data:\n",
    "    print(tweet.text)\n",
    "    print(\"**********************************************************\")"
   ]
  },
  {
   "cell_type": "code",
   "execution_count": 13,
   "metadata": {},
   "outputs": [
    {
     "data": {
      "text/plain": [
       "'en'"
      ]
     },
     "execution_count": 13,
     "metadata": {},
     "output_type": "execute_result"
    }
   ],
   "source": [
    "tweet.lang"
   ]
  },
  {
   "cell_type": "code",
   "execution_count": 14,
   "metadata": {},
   "outputs": [
    {
     "data": {
      "text/plain": [
       "28"
      ]
     },
     "execution_count": 14,
     "metadata": {},
     "output_type": "execute_result"
    }
   ],
   "source": [
    "tweet.retweet_count"
   ]
  },
  {
   "cell_type": "code",
   "execution_count": 16,
   "metadata": {},
   "outputs": [
    {
     "data": {
      "text/plain": [
       "User(_api=<tweepy.api.API object at 0x000002405852DC08>, _json={'id': 16629850, 'id_str': '16629850', 'name': 'Kerry Jackson', 'screen_name': 'RFHKerry', 'location': 'in here somewhere', 'description': 'I am your host. X96 Radio From Hell Show & Geekshow podcast.', 'url': None, 'entities': {'description': {'urls': []}}, 'protected': False, 'followers_count': 11471, 'friends_count': 4361, 'listed_count': 142, 'created_at': 'Tue Oct 07 13:58:43 +0000 2008', 'favourites_count': 91780, 'utc_offset': None, 'time_zone': None, 'geo_enabled': False, 'verified': False, 'statuses_count': 44468, 'lang': None, 'contributors_enabled': False, 'is_translator': False, 'is_translation_enabled': False, 'profile_background_color': '131516', 'profile_background_image_url': 'http://abs.twimg.com/images/themes/theme14/bg.gif', 'profile_background_image_url_https': 'https://abs.twimg.com/images/themes/theme14/bg.gif', 'profile_background_tile': True, 'profile_image_url': 'http://pbs.twimg.com/profile_images/1228882260067151872/OiPLCOwa_normal.jpg', 'profile_image_url_https': 'https://pbs.twimg.com/profile_images/1228882260067151872/OiPLCOwa_normal.jpg', 'profile_banner_url': 'https://pbs.twimg.com/profile_banners/16629850/1384800638', 'profile_link_color': '009999', 'profile_sidebar_border_color': 'EEEEEE', 'profile_sidebar_fill_color': 'EFEFEF', 'profile_text_color': '333333', 'profile_use_background_image': True, 'has_extended_profile': False, 'default_profile': False, 'default_profile_image': False, 'following': False, 'follow_request_sent': False, 'notifications': False, 'translator_type': 'none'}, id=16629850, id_str='16629850', name='Kerry Jackson', screen_name='RFHKerry', location='in here somewhere', description='I am your host. X96 Radio From Hell Show & Geekshow podcast.', url=None, entities={'description': {'urls': []}}, protected=False, followers_count=11471, friends_count=4361, listed_count=142, created_at=datetime.datetime(2008, 10, 7, 13, 58, 43), favourites_count=91780, utc_offset=None, time_zone=None, geo_enabled=False, verified=False, statuses_count=44468, lang=None, contributors_enabled=False, is_translator=False, is_translation_enabled=False, profile_background_color='131516', profile_background_image_url='http://abs.twimg.com/images/themes/theme14/bg.gif', profile_background_image_url_https='https://abs.twimg.com/images/themes/theme14/bg.gif', profile_background_tile=True, profile_image_url='http://pbs.twimg.com/profile_images/1228882260067151872/OiPLCOwa_normal.jpg', profile_image_url_https='https://pbs.twimg.com/profile_images/1228882260067151872/OiPLCOwa_normal.jpg', profile_banner_url='https://pbs.twimg.com/profile_banners/16629850/1384800638', profile_link_color='009999', profile_sidebar_border_color='EEEEEE', profile_sidebar_fill_color='EFEFEF', profile_text_color='333333', profile_use_background_image=True, has_extended_profile=False, default_profile=False, default_profile_image=False, following=False, follow_request_sent=False, notifications=False, translator_type='none')"
      ]
     },
     "execution_count": 16,
     "metadata": {},
     "output_type": "execute_result"
    }
   ],
   "source": [
    "tweet.user"
   ]
  },
  {
   "cell_type": "code",
   "execution_count": null,
   "metadata": {},
   "outputs": [],
   "source": []
  }
 ],
 "metadata": {
  "kernelspec": {
   "display_name": "Python 3",
   "language": "python",
   "name": "python3"
  },
  "language_info": {
   "codemirror_mode": {
    "name": "ipython",
    "version": 3
   },
   "file_extension": ".py",
   "mimetype": "text/x-python",
   "name": "python",
   "nbconvert_exporter": "python",
   "pygments_lexer": "ipython3",
   "version": "3.7.4"
  },
  "latex_envs": {
   "LaTeX_envs_menu_present": true,
   "autoclose": false,
   "autocomplete": true,
   "bibliofile": "biblio.bib",
   "cite_by": "apalike",
   "current_citInitial": 1,
   "eqLabelWithNumbers": true,
   "eqNumInitial": 1,
   "hotkeys": {
    "equation": "Ctrl-E",
    "itemize": "Ctrl-I"
   },
   "labels_anchors": false,
   "latex_user_defs": false,
   "report_style_numbering": false,
   "user_envs_cfg": false
  }
 },
 "nbformat": 4,
 "nbformat_minor": 2
}
